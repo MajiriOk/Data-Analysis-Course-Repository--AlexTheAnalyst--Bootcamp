{
 "cells": [
  {
   "cell_type": "markdown",
   "id": "f4cf9d51",
   "metadata": {},
   "source": [
    "# For Loops"
   ]
  },
  {
   "cell_type": "code",
   "execution_count": 1,
   "id": "42acbb25",
   "metadata": {},
   "outputs": [],
   "source": [
    "integers = [1,2,3,4,5]"
   ]
  },
  {
   "cell_type": "code",
   "execution_count": 2,
   "id": "b8639828",
   "metadata": {},
   "outputs": [
    {
     "name": "stdout",
     "output_type": "stream",
     "text": [
      "1\n",
      "2\n",
      "3\n",
      "4\n",
      "5\n"
     ]
    }
   ],
   "source": [
    "for number in integers:\n",
    "    print(number)"
   ]
  },
  {
   "cell_type": "code",
   "execution_count": 3,
   "id": "fb84ea8e",
   "metadata": {},
   "outputs": [
    {
     "name": "stdout",
     "output_type": "stream",
     "text": [
      "I love python!\n",
      "I love python!\n",
      "I love python!\n",
      "I love python!\n",
      "I love python!\n"
     ]
    }
   ],
   "source": [
    "for number in integers:\n",
    "    print('I love python!')"
   ]
  },
  {
   "cell_type": "code",
   "execution_count": 4,
   "id": "abadc21a",
   "metadata": {},
   "outputs": [],
   "source": [
    "integers = [1,2,3,4,5]"
   ]
  },
  {
   "cell_type": "code",
   "execution_count": 5,
   "id": "599c8896",
   "metadata": {},
   "outputs": [
    {
     "name": "stdout",
     "output_type": "stream",
     "text": [
      "2\n",
      "4\n",
      "6\n",
      "8\n",
      "10\n"
     ]
    }
   ],
   "source": [
    "for x in integers:\n",
    "    print(x + x)"
   ]
  },
  {
   "cell_type": "code",
   "execution_count": 6,
   "id": "85c8415f",
   "metadata": {},
   "outputs": [],
   "source": [
    "data_analyst_dict = {'name': 'Majiri Ok', 'job tenure': 2, 'previous roles': ['DS', 'DA', 'DE'] }"
   ]
  },
  {
   "cell_type": "code",
   "execution_count": 7,
   "id": "0532977c",
   "metadata": {},
   "outputs": [
    {
     "name": "stdout",
     "output_type": "stream",
     "text": [
      "Majiri Ok\n",
      "2\n",
      "['DS', 'DA', 'DE']\n"
     ]
    }
   ],
   "source": [
    "for profile in data_analyst_dict.values():\n",
    "    print(profile)"
   ]
  },
  {
   "cell_type": "code",
   "execution_count": 8,
   "id": "1f2c14f1",
   "metadata": {},
   "outputs": [
    {
     "name": "stdout",
     "output_type": "stream",
     "text": [
      "name -> Majiri Ok\n",
      "job tenure -> 2\n",
      "previous roles -> ['DS', 'DA', 'DE']\n"
     ]
    }
   ],
   "source": [
    "for key, value in data_analyst_dict.items():\n",
    "    print(key, '->', value)"
   ]
  },
  {
   "cell_type": "markdown",
   "id": "90c61ab1",
   "metadata": {},
   "source": [
    "# Nested For Loops"
   ]
  },
  {
   "cell_type": "code",
   "execution_count": 9,
   "id": "8c3478bf",
   "metadata": {},
   "outputs": [],
   "source": [
    "flavors = ['vanilla', 'chocolate', 'cookie dough']\n",
    "toppings = ['hot fudge', 'oreos', 'marshmallows']"
   ]
  },
  {
   "cell_type": "code",
   "execution_count": 10,
   "id": "a94a79bc",
   "metadata": {},
   "outputs": [
    {
     "name": "stdout",
     "output_type": "stream",
     "text": [
      "vanilla topped with hot fudge\n",
      "vanilla topped with oreos\n",
      "vanilla topped with marshmallows\n",
      "chocolate topped with hot fudge\n",
      "chocolate topped with oreos\n",
      "chocolate topped with marshmallows\n",
      "cookie dough topped with hot fudge\n",
      "cookie dough topped with oreos\n",
      "cookie dough topped with marshmallows\n"
     ]
    }
   ],
   "source": [
    "for one in flavors:\n",
    "    for two in toppings:\n",
    "        print(one, 'topped with', two)"
   ]
  }
 ],
 "metadata": {
  "kernelspec": {
   "display_name": "Python 3 (ipykernel)",
   "language": "python",
   "name": "python3"
  },
  "language_info": {
   "codemirror_mode": {
    "name": "ipython",
    "version": 3
   },
   "file_extension": ".py",
   "mimetype": "text/x-python",
   "name": "python",
   "nbconvert_exporter": "python",
   "pygments_lexer": "ipython3",
   "version": "3.11.5"
  }
 },
 "nbformat": 4,
 "nbformat_minor": 5
}
