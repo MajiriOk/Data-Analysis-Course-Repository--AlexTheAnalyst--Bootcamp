{
 "cells": [
  {
   "cell_type": "markdown",
   "id": "43273e1f",
   "metadata": {},
   "source": [
    "# BMI Calculator"
   ]
  },
  {
   "cell_type": "code",
   "execution_count": null,
   "id": "785dc0ef",
   "metadata": {},
   "outputs": [],
   "source": [
    "#BMI = (weight in pounds x 703) / (height in inches x height in inches)"
   ]
  },
  {
   "cell_type": "code",
   "execution_count": 2,
   "id": "abcb9767",
   "metadata": {},
   "outputs": [
    {
     "name": "stdout",
     "output_type": "stream",
     "text": [
      "Enter your name: Maj\n",
      "Enter your weight in pounds: 150\n",
      "Enter your height in inches: 75\n",
      "18.746666666666666\n"
     ]
    }
   ],
   "source": [
    "name = input(\"Enter your name: \")\n",
    "\n",
    "weight = int(input(\"Enter your weight in pounds: \"))\n",
    "height = int(input(\"Enter your height in inches: \"))\n",
    "\n",
    "#print(\"Your weight is \" + weight + \" pounds\")\n",
    "#print(\"Your height is \" + height + \" inches\")\n",
    "\n",
    "BMI = (weight * 703) / (height * height)\n",
    "\n",
    "print(BMI)"
   ]
  },
  {
   "cell_type": "code",
   "execution_count": null,
   "id": "15361394",
   "metadata": {},
   "outputs": [],
   "source": [
    "#BMI = (weight in pounds x 703) / (height in inches x height in inches)"
   ]
  },
  {
   "cell_type": "code",
   "execution_count": 5,
   "id": "a5134dbf",
   "metadata": {},
   "outputs": [
    {
     "name": "stdout",
     "output_type": "stream",
     "text": [
      "Maj, You are normal weight\n"
     ]
    }
   ],
   "source": [
    "if BMI > 0:\n",
    "    if(BMI < 18.5):\n",
    "        print(name + \", You are underweight\")\n",
    "    elif(BMI <= 24.9):\n",
    "        print(name + \", You are normal weight\")\n",
    "    elif(BMI < 29.9):\n",
    "        print(name + \", You are overweight\")\n",
    "    elif(BMI < 34.9):\n",
    "        print(name + \", You are obese\")\n",
    "    elif(BMI < 39.9):\n",
    "        print(name + \", You are severley obese\")\n",
    "    else:\n",
    "        print(\"Enter valid input\")"
   ]
  }
 ],
 "metadata": {
  "kernelspec": {
   "display_name": "Python 3 (ipykernel)",
   "language": "python",
   "name": "python3"
  },
  "language_info": {
   "codemirror_mode": {
    "name": "ipython",
    "version": 3
   },
   "file_extension": ".py",
   "mimetype": "text/x-python",
   "name": "python",
   "nbconvert_exporter": "python",
   "pygments_lexer": "ipython3",
   "version": "3.11.5"
  }
 },
 "nbformat": 4,
 "nbformat_minor": 5
}
