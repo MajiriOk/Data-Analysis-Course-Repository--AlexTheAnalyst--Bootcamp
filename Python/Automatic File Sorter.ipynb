{
 "cells": [
  {
   "cell_type": "markdown",
   "id": "92536259",
   "metadata": {},
   "source": [
    "# Automatic File Sorter in File Explorer"
   ]
  },
  {
   "cell_type": "code",
   "execution_count": 14,
   "id": "520cb6ca",
   "metadata": {},
   "outputs": [],
   "source": [
    "import os, shutil"
   ]
  },
  {
   "cell_type": "code",
   "execution_count": 24,
   "id": "be0e8a75",
   "metadata": {},
   "outputs": [],
   "source": [
    "path = r\"C:/Users/Maj/Documents/\""
   ]
  },
  {
   "cell_type": "code",
   "execution_count": 33,
   "id": "1cb9cfac",
   "metadata": {},
   "outputs": [
    {
     "name": "stdout",
     "output_type": "stream",
     "text": [
      "['.RData', '.Rhistory', 'csv files', 'Custom Office Templates', 'desktop.ini', 'image files', 'log.txt', 'My Music', 'My Pictures', 'My Tableau Repository', 'My Videos', 'owid-covid-data.csv', 'Python Scripts', 'SQL Server Management Studio', 'test.py', 'text files', 'Visual Studio 2017']\n"
     ]
    }
   ],
   "source": [
    "dir_list = os.listdir(path)\n",
    "print(dir_list) "
   ]
  },
  {
   "cell_type": "code",
   "execution_count": 27,
   "id": "c5fef4d3",
   "metadata": {},
   "outputs": [
    {
     "name": "stdout",
     "output_type": "stream",
     "text": [
      "C:/Users/Maj/Documents/text files\n"
     ]
    }
   ],
   "source": [
    "folder_names = ['csv files', 'image files', 'text files']\n",
    "\n",
    "for file in range(0,3):\n",
    "    if not os.path.exists(path + folder_names[file]):\n",
    "        print(path + folder_names[file])\n",
    "        os.makedirs((path + folder_names[file]))"
   ]
  },
  {
   "cell_type": "code",
   "execution_count": 34,
   "id": "46a248e2",
   "metadata": {},
   "outputs": [],
   "source": [
    "for files in dir_list:\n",
    "    if \".csv\" in files and not os.path.exists(path + \"csv files/\" + files):\n",
    "        shutil.move(path + files, path + \"csv files/\" + files)\n",
    "    elif \".jpg\" in files and not os.path.exists(path + \"image files/\" + files):\n",
    "        shutil.move(path + files, path + \"image files/\" + files)\n",
    "    elif \".txt\" in files and not os.path.exists(path + \"text files/\" + files):\n",
    "        shutil.move(path + files, path + \"text files/\" + files)\n",
    "    #else:\n",
    "        #print(\"There are files in this path that were not moved!\")"
   ]
  }
 ],
 "metadata": {
  "kernelspec": {
   "display_name": "Python 3 (ipykernel)",
   "language": "python",
   "name": "python3"
  },
  "language_info": {
   "codemirror_mode": {
    "name": "ipython",
    "version": 3
   },
   "file_extension": ".py",
   "mimetype": "text/x-python",
   "name": "python",
   "nbconvert_exporter": "python",
   "pygments_lexer": "ipython3",
   "version": "3.11.5"
  }
 },
 "nbformat": 4,
 "nbformat_minor": 5
}
