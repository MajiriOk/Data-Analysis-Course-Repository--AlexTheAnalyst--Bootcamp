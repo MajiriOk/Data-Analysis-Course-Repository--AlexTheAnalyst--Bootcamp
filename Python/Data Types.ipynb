{
 "cells": [
  {
   "cell_type": "markdown",
   "id": "31b380db",
   "metadata": {},
   "source": [
    "# Data Types"
   ]
  },
  {
   "cell_type": "code",
   "execution_count": 1,
   "id": "427c49d6",
   "metadata": {},
   "outputs": [
    {
     "data": {
      "text/plain": [
       "int"
      ]
     },
     "execution_count": 1,
     "metadata": {},
     "output_type": "execute_result"
    }
   ],
   "source": [
    "#Integer\n",
    "\n",
    "type(12)"
   ]
  },
  {
   "cell_type": "code",
   "execution_count": 2,
   "id": "3bad3d5c",
   "metadata": {},
   "outputs": [
    {
     "data": {
      "text/plain": [
       "float"
      ]
     },
     "execution_count": 2,
     "metadata": {},
     "output_type": "execute_result"
    }
   ],
   "source": [
    "type(12 + 10.25)"
   ]
  },
  {
   "cell_type": "code",
   "execution_count": 3,
   "id": "fd6abdfe",
   "metadata": {},
   "outputs": [
    {
     "data": {
      "text/plain": [
       "complex"
      ]
     },
     "execution_count": 3,
     "metadata": {},
     "output_type": "execute_result"
    }
   ],
   "source": [
    "type(12 + 4j)"
   ]
  },
  {
   "cell_type": "code",
   "execution_count": 6,
   "id": "e292e871",
   "metadata": {},
   "outputs": [
    {
     "data": {
      "text/plain": [
       "bool"
      ]
     },
     "execution_count": 6,
     "metadata": {},
     "output_type": "execute_result"
    }
   ],
   "source": [
    "#Boolean\n",
    "\n",
    "type(True)"
   ]
  },
  {
   "cell_type": "code",
   "execution_count": 7,
   "id": "f9aacdf1",
   "metadata": {},
   "outputs": [
    {
     "data": {
      "text/plain": [
       "bool"
      ]
     },
     "execution_count": 7,
     "metadata": {},
     "output_type": "execute_result"
    }
   ],
   "source": [
    "type(False)"
   ]
  },
  {
   "cell_type": "code",
   "execution_count": 8,
   "id": "9b8fa4c7",
   "metadata": {},
   "outputs": [
    {
     "data": {
      "text/plain": [
       "'Single Quote'"
      ]
     },
     "execution_count": 8,
     "metadata": {},
     "output_type": "execute_result"
    }
   ],
   "source": [
    "#Strings\n",
    "\n",
    "'Single Quote'"
   ]
  },
  {
   "cell_type": "code",
   "execution_count": 9,
   "id": "1b2c0b43",
   "metadata": {},
   "outputs": [
    {
     "data": {
      "text/plain": [
       "'Double Quote'"
      ]
     },
     "execution_count": 9,
     "metadata": {},
     "output_type": "execute_result"
    }
   ],
   "source": [
    "\"Double Quote\""
   ]
  },
  {
   "cell_type": "code",
   "execution_count": 13,
   "id": "c708c804",
   "metadata": {},
   "outputs": [],
   "source": [
    "multiLine = \"\"\"\n",
    "I have started my data analyst journey\n",
    "Consistency will get me to my goal\n",
    "There will be highs and lows\n",
    "But Jesus is with me\n",
    "So I can do anything.\n",
    "\n",
    "\"\"\""
   ]
  },
  {
   "cell_type": "code",
   "execution_count": 14,
   "id": "0fb9c27a",
   "metadata": {},
   "outputs": [
    {
     "name": "stdout",
     "output_type": "stream",
     "text": [
      "\n",
      "I have started my data analyst journey\n",
      "Consistency will get me to my goal\n",
      "There will be highs and lows\n",
      "But Jesus is with me\n",
      "So I can do anything.\n",
      "\n",
      "\n"
     ]
    }
   ],
   "source": [
    "print(multiLine)"
   ]
  },
  {
   "cell_type": "code",
   "execution_count": 15,
   "id": "28c12d2d",
   "metadata": {},
   "outputs": [],
   "source": [
    "x = 'Hello World'"
   ]
  },
  {
   "cell_type": "code",
   "execution_count": 16,
   "id": "a54a53b4",
   "metadata": {},
   "outputs": [
    {
     "name": "stdout",
     "output_type": "stream",
     "text": [
      "Hello\n"
     ]
    }
   ],
   "source": [
    "print(x[:5])"
   ]
  },
  {
   "cell_type": "code",
   "execution_count": 17,
   "id": "da9815f3",
   "metadata": {},
   "outputs": [
    {
     "data": {
      "text/plain": [
       "[1, 2, 3]"
      ]
     },
     "execution_count": 17,
     "metadata": {},
     "output_type": "execute_result"
    }
   ],
   "source": [
    "#List\n",
    "\n",
    "[1,2,3]"
   ]
  },
  {
   "cell_type": "code",
   "execution_count": 18,
   "id": "76b7b3a0",
   "metadata": {},
   "outputs": [
    {
     "data": {
      "text/plain": [
       "['Toyota', 'Honda', 'KIA']"
      ]
     },
     "execution_count": 18,
     "metadata": {},
     "output_type": "execute_result"
    }
   ],
   "source": [
    "['Toyota', 'Honda', 'KIA']"
   ]
  },
  {
   "cell_type": "code",
   "execution_count": 19,
   "id": "fc1b4cf6",
   "metadata": {},
   "outputs": [
    {
     "data": {
      "text/plain": [
       "['Toyota', 2, ['Corolla', 'Camry'], True]"
      ]
     },
     "execution_count": 19,
     "metadata": {},
     "output_type": "execute_result"
    }
   ],
   "source": [
    "['Toyota', 2, ['Corolla', 'Camry'], True]"
   ]
  },
  {
   "cell_type": "code",
   "execution_count": 21,
   "id": "8e38b8cb",
   "metadata": {},
   "outputs": [
    {
     "data": {
      "text/plain": [
       "['Toyota', 'Honda', 'KIA', 'Mercedes']"
      ]
     },
     "execution_count": 21,
     "metadata": {},
     "output_type": "execute_result"
    }
   ],
   "source": [
    "carTypes = ['Toyota', 'Honda', 'KIA']\n",
    "\n",
    "carTypes.append('Mercedes')\n",
    "\n",
    "carTypes"
   ]
  },
  {
   "cell_type": "code",
   "execution_count": 22,
   "id": "5512e557",
   "metadata": {},
   "outputs": [
    {
     "data": {
      "text/plain": [
       "['Toyota', 'Nissan', 'KIA', 'Mercedes']"
      ]
     },
     "execution_count": 22,
     "metadata": {},
     "output_type": "execute_result"
    }
   ],
   "source": [
    "carTypes[1] = 'Nissan'\n",
    "\n",
    "carTypes"
   ]
  },
  {
   "cell_type": "code",
   "execution_count": 23,
   "id": "82ebe149",
   "metadata": {},
   "outputs": [],
   "source": [
    "nestList = ['Toyota', 2, ['Corolla', 'Camry'], True]"
   ]
  },
  {
   "cell_type": "code",
   "execution_count": 24,
   "id": "b125766e",
   "metadata": {},
   "outputs": [
    {
     "data": {
      "text/plain": [
       "'Camry'"
      ]
     },
     "execution_count": 24,
     "metadata": {},
     "output_type": "execute_result"
    }
   ],
   "source": [
    "nestList[2][1]"
   ]
  },
  {
   "cell_type": "code",
   "execution_count": 25,
   "id": "abfe0ce2",
   "metadata": {},
   "outputs": [],
   "source": [
    "#Tuple\n",
    "\n",
    "tupleScoops = (1,2,3,2,1)"
   ]
  },
  {
   "cell_type": "code",
   "execution_count": 26,
   "id": "f787f949",
   "metadata": {},
   "outputs": [
    {
     "data": {
      "text/plain": [
       "tuple"
      ]
     },
     "execution_count": 26,
     "metadata": {},
     "output_type": "execute_result"
    }
   ],
   "source": [
    "type(tupleScoops)"
   ]
  },
  {
   "cell_type": "code",
   "execution_count": 27,
   "id": "3289e206",
   "metadata": {},
   "outputs": [],
   "source": [
    "#Sets\n",
    "\n",
    "dailyCarSales = {12,15,24,6}"
   ]
  },
  {
   "cell_type": "code",
   "execution_count": 28,
   "id": "ccc30e87",
   "metadata": {},
   "outputs": [
    {
     "data": {
      "text/plain": [
       "set"
      ]
     },
     "execution_count": 28,
     "metadata": {},
     "output_type": "execute_result"
    }
   ],
   "source": [
    "type(dailyCarSales)"
   ]
  },
  {
   "cell_type": "code",
   "execution_count": 29,
   "id": "a5c8ff14",
   "metadata": {},
   "outputs": [
    {
     "name": "stdout",
     "output_type": "stream",
     "text": [
      "{24, 12, 6, 15}\n"
     ]
    }
   ],
   "source": [
    "print(dailyCarSales)"
   ]
  },
  {
   "cell_type": "code",
   "execution_count": 30,
   "id": "267ff12e",
   "metadata": {},
   "outputs": [],
   "source": [
    "dailyTruckSales = {4,12,3,5}"
   ]
  },
  {
   "cell_type": "code",
   "execution_count": 32,
   "id": "0bc8a7f2",
   "metadata": {},
   "outputs": [
    {
     "name": "stdout",
     "output_type": "stream",
     "text": [
      "{3, 4, 5, 6, 12, 15, 24}\n"
     ]
    }
   ],
   "source": [
    "print(dailyCarSales | dailyTruckSales)"
   ]
  },
  {
   "cell_type": "code",
   "execution_count": 33,
   "id": "a6fcccd2",
   "metadata": {},
   "outputs": [
    {
     "name": "stdout",
     "output_type": "stream",
     "text": [
      "{24, 6, 15}\n"
     ]
    }
   ],
   "source": [
    "print(dailyCarSales - dailyTruckSales)"
   ]
  },
  {
   "cell_type": "code",
   "execution_count": 34,
   "id": "60ed8b69",
   "metadata": {},
   "outputs": [
    {
     "name": "stdout",
     "output_type": "stream",
     "text": [
      "{3, 4, 5, 6, 15, 24}\n"
     ]
    }
   ],
   "source": [
    "print(dailyCarSales ^ dailyTruckSales)"
   ]
  },
  {
   "cell_type": "code",
   "execution_count": 35,
   "id": "39c295d1",
   "metadata": {},
   "outputs": [
    {
     "name": "stdout",
     "output_type": "stream",
     "text": [
      "{12}\n"
     ]
    }
   ],
   "source": [
    "print(dailyCarSales & dailyTruckSales)"
   ]
  },
  {
   "cell_type": "code",
   "execution_count": 36,
   "id": "7de82420",
   "metadata": {},
   "outputs": [],
   "source": [
    "#Dictionaries\n",
    "# Key/Value Pair\n",
    "\n",
    "dictCar = {'name': 'Maj', 'car Type': 'Toyota corolla', 'best cars': ['Tesla', 'Toyota', 'KIA'] }"
   ]
  },
  {
   "cell_type": "code",
   "execution_count": 37,
   "id": "4a1e29b5",
   "metadata": {},
   "outputs": [
    {
     "data": {
      "text/plain": [
       "dict"
      ]
     },
     "execution_count": 37,
     "metadata": {},
     "output_type": "execute_result"
    }
   ],
   "source": [
    "type(dictCar)"
   ]
  },
  {
   "cell_type": "code",
   "execution_count": 38,
   "id": "b2304a45",
   "metadata": {},
   "outputs": [
    {
     "name": "stdout",
     "output_type": "stream",
     "text": [
      "{'name': 'Maj', 'car Type': 'Toyota corolla', 'best cars': ['Tesla', 'Toyota', 'KIA']}\n"
     ]
    }
   ],
   "source": [
    "print(dictCar)"
   ]
  },
  {
   "cell_type": "code",
   "execution_count": 39,
   "id": "0b1d0046",
   "metadata": {},
   "outputs": [
    {
     "data": {
      "text/plain": [
       "dict_values(['Maj', 'Toyota corolla', ['Tesla', 'Toyota', 'KIA']])"
      ]
     },
     "execution_count": 39,
     "metadata": {},
     "output_type": "execute_result"
    }
   ],
   "source": [
    "dictCar.values()"
   ]
  },
  {
   "cell_type": "code",
   "execution_count": 40,
   "id": "155197de",
   "metadata": {},
   "outputs": [
    {
     "data": {
      "text/plain": [
       "dict_keys(['name', 'car Type', 'best cars'])"
      ]
     },
     "execution_count": 40,
     "metadata": {},
     "output_type": "execute_result"
    }
   ],
   "source": [
    "dictCar.keys()"
   ]
  },
  {
   "cell_type": "code",
   "execution_count": 41,
   "id": "e234f0eb",
   "metadata": {},
   "outputs": [
    {
     "data": {
      "text/plain": [
       "dict_items([('name', 'Maj'), ('car Type', 'Toyota corolla'), ('best cars', ['Tesla', 'Toyota', 'KIA'])])"
      ]
     },
     "execution_count": 41,
     "metadata": {},
     "output_type": "execute_result"
    }
   ],
   "source": [
    "dictCar.items()"
   ]
  },
  {
   "cell_type": "code",
   "execution_count": 42,
   "id": "bee97f24",
   "metadata": {},
   "outputs": [
    {
     "data": {
      "text/plain": [
       "'Maj'"
      ]
     },
     "execution_count": 42,
     "metadata": {},
     "output_type": "execute_result"
    }
   ],
   "source": [
    "dictCar['name']"
   ]
  },
  {
   "cell_type": "code",
   "execution_count": 43,
   "id": "e6fd86f4",
   "metadata": {},
   "outputs": [
    {
     "name": "stdout",
     "output_type": "stream",
     "text": [
      "{'name': 'Majiri Ok', 'car Type': 'Toyota corolla', 'best cars': ['Tesla', 'Toyota', 'KIA']}\n"
     ]
    }
   ],
   "source": [
    "dictCar['name'] = 'Majiri Ok'\n",
    "\n",
    "print(dictCar)"
   ]
  },
  {
   "cell_type": "code",
   "execution_count": 44,
   "id": "b638b4a7",
   "metadata": {},
   "outputs": [
    {
     "name": "stdout",
     "output_type": "stream",
     "text": [
      "{'name': 'Majiri Ok', 'car Type': 'Toyota corolla', 'best cars': ['Tesla', 'Toyota', 'KIA'], 'cars': ['Tesla', 'Toyota', 'Honda']}\n"
     ]
    }
   ],
   "source": [
    "dictCar.update({'name': 'Majiri Ok', 'car Type': 'Toyota corolla', 'cars': ['Tesla', 'Toyota', 'Honda']})\n",
    "\n",
    "print(dictCar)"
   ]
  },
  {
   "cell_type": "code",
   "execution_count": 45,
   "id": "3bafc0d2",
   "metadata": {},
   "outputs": [
    {
     "name": "stdout",
     "output_type": "stream",
     "text": [
      "{'name': 'Majiri Ok', 'car Type': 'Toyota corolla', 'best cars': ['Tesla', 'Toyota', 'KIA']}\n"
     ]
    }
   ],
   "source": [
    "del dictCar['cars']\n",
    "\n",
    "print(dictCar)"
   ]
  }
 ],
 "metadata": {
  "kernelspec": {
   "display_name": "Python 3 (ipykernel)",
   "language": "python",
   "name": "python3"
  },
  "language_info": {
   "codemirror_mode": {
    "name": "ipython",
    "version": 3
   },
   "file_extension": ".py",
   "mimetype": "text/x-python",
   "name": "python",
   "nbconvert_exporter": "python",
   "pygments_lexer": "ipython3",
   "version": "3.11.5"
  }
 },
 "nbformat": 4,
 "nbformat_minor": 5
}
